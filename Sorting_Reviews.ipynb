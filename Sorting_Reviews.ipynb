{
 "cells": [
  {
   "cell_type": "code",
   "execution_count": null,
   "id": "ae7d02c0",
   "metadata": {},
   "outputs": [],
   "source": [
    "# SORTING REVIEWS"
   ]
  },
  {
   "cell_type": "code",
   "execution_count": 1,
   "id": "7a5b949d",
   "metadata": {},
   "outputs": [],
   "source": [
    "import pandas as pd\n",
    "import math\n",
    "import scipy.stats as st\n",
    "\n",
    "pd.set_option('display.max_columns', None)\n",
    "pd.set_option('display.expand_frame_repr', False)\n",
    "pd.set_option('display.float_format', lambda x: '%.5f' % x)"
   ]
  },
  {
   "cell_type": "code",
   "execution_count": null,
   "id": "6af5d636",
   "metadata": {},
   "outputs": [],
   "source": [
    "# Up-Down Diff Score = (up ratings) − (down ratings)"
   ]
  },
  {
   "cell_type": "code",
   "execution_count": null,
   "id": "632051a3",
   "metadata": {},
   "outputs": [],
   "source": [
    "# Review 1: 600 up 400 down total 1000\n",
    "# Review 2: 5500 up 4500 down total 10000"
   ]
  },
  {
   "cell_type": "code",
   "execution_count": 3,
   "id": "a74e2a15",
   "metadata": {},
   "outputs": [
    {
     "data": {
      "text/plain": [
       "1000"
      ]
     },
     "execution_count": 3,
     "metadata": {},
     "output_type": "execute_result"
    }
   ],
   "source": [
    "def score_up_down_diff(up,down):\n",
    "return up - down \n",
    "\n",
    "# Review 1 Score:\n",
    "score_up_down_diff(600, 400)\n",
    "\n",
    "# Review 2 Score\n",
    "score_up_down_diff(5500, 4500)"
   ]
  },
  {
   "cell_type": "code",
   "execution_count": null,
   "id": "081ea3df",
   "metadata": {},
   "outputs": [],
   "source": [
    "# Score = Average rating = (up ratings) / (all ratings)"
   ]
  },
  {
   "cell_type": "code",
   "execution_count": 4,
   "id": "478d9210",
   "metadata": {},
   "outputs": [
    {
     "data": {
      "text/plain": [
       "0.55"
      ]
     },
     "execution_count": 4,
     "metadata": {},
     "output_type": "execute_result"
    }
   ],
   "source": [
    "def score_average_rating(up, down):\n",
    "    if up + down == 0:\n",
    "        return 0\n",
    "    return up / (up + down)\n",
    "\n",
    "score_average_rating(600, 400)\n",
    "score_average_rating(5500, 4500)"
   ]
  },
  {
   "cell_type": "code",
   "execution_count": 5,
   "id": "4ec16d41",
   "metadata": {},
   "outputs": [
    {
     "data": {
      "text/plain": [
       "0.9900990099009901"
      ]
     },
     "execution_count": 5,
     "metadata": {},
     "output_type": "execute_result"
    }
   ],
   "source": [
    "# Review 1: 2 up 0 down total 2\n",
    "# Review 2: 100 up 1 down total 101\n",
    "\n",
    "score_average_rating(2, 0)\n",
    "score_average_rating(100, 1)"
   ]
  },
  {
   "cell_type": "code",
   "execution_count": null,
   "id": "8a8fdbcb",
   "metadata": {},
   "outputs": [],
   "source": [
    "# Wilson Lower Bound Score\n",
    "\n",
    "    \"\"\"\n",
    "    Wilson Lower Bound Score hesapla\n",
    "\n",
    "    - Bernoulli parametresi p için hesaplanacak güven aralığının alt sınırı WLB skoru olarak kabul edilir.\n",
    "    - Hesaplanacak skor ürün sıralaması için kullanılır.\n",
    "    - Not:\n",
    "    Eğer skorlar 1-5 arasıdaysa 1-3 negatif, 4-5 pozitif olarak işaretlenir ve bernoulli'ye uygun hale getirilebilir.\n",
    "    Bu beraberinde bazı problemleri de getirir. Bu sebeple bayesian average rating yapmak gerekir.\n",
    "\n",
    "    Parameters\n",
    "    ----------\n",
    "    up: int\n",
    "        up count\n",
    "    down: int\n",
    "        down count\n",
    "    confidence: float\n",
    "        confidence\n",
    "\n",
    "    Returns\n",
    "    -------\n",
    "    wilson score: float"
   ]
  },
  {
   "cell_type": "code",
   "execution_count": 9,
   "id": "494a08f2",
   "metadata": {},
   "outputs": [
    {
     "data": {
      "text/plain": [
       "0.9460328420055449"
      ]
     },
     "execution_count": 9,
     "metadata": {},
     "output_type": "execute_result"
    }
   ],
   "source": [
    "# 600-400\n",
    "# 0.6\n",
    "# 0.5 0.7\n",
    "# 0.5\n",
    "\n",
    "def wilson_lower_bound(up, down, confidence=0.95):\n",
    "    n = up + down\n",
    "    if n == 0:\n",
    "        return 0\n",
    "    z = st.norm.ppf(1 - (1 - confidence) / 2)\n",
    "    phat = 1.0 * up / n\n",
    "    return (phat + z * z / (2 * n) - z * math.sqrt((phat * (1 - phat) + z * z / (4 * n)) / n)) / (1 + z * z / n)\n",
    "\n",
    "\n",
    "wilson_lower_bound(600, 400)\n",
    "wilson_lower_bound(5500, 4500)\n",
    "\n",
    "wilson_lower_bound(2, 0)\n",
    "wilson_lower_bound(100, 1)\n"
   ]
  },
  {
   "cell_type": "code",
   "execution_count": null,
   "id": "7f806d58",
   "metadata": {},
   "outputs": [],
   "source": [
    "# Case Study"
   ]
  },
  {
   "cell_type": "code",
   "execution_count": 10,
   "id": "d5e8aacb",
   "metadata": {},
   "outputs": [],
   "source": [
    "up = [15, 70, 14, 4, 2, 5, 8, 37, 21, 52, 28, 147, 61, 30, 23, 40, 37, 61, 54, 18, 12, 68]\n",
    "down = [0, 2, 2, 2, 15, 2, 6, 5, 23, 8, 12, 2, 1, 1, 5, 1, 2, 6, 2, 0, 2, 2]\n",
    "\n",
    "comments = pd.DataFrame({\"up\": up, \"down\": down})"
   ]
  },
  {
   "cell_type": "code",
   "execution_count": 15,
   "id": "f5ac7b50",
   "metadata": {},
   "outputs": [
    {
     "data": {
      "text/plain": [
       "0     15.00000\n",
       "1     68.00000\n",
       "2     12.00000\n",
       "3      2.00000\n",
       "4    -13.00000\n",
       "5      3.00000\n",
       "6      2.00000\n",
       "7     32.00000\n",
       "8     -2.00000\n",
       "9     44.00000\n",
       "10    16.00000\n",
       "11   145.00000\n",
       "12    60.00000\n",
       "13    29.00000\n",
       "14    18.00000\n",
       "15    39.00000\n",
       "16    35.00000\n",
       "17    55.00000\n",
       "18    52.00000\n",
       "19    18.00000\n",
       "20    10.00000\n",
       "21    66.00000\n",
       "Name: score_pos_neg_diff, dtype: float64"
      ]
     },
     "execution_count": 15,
     "metadata": {},
     "output_type": "execute_result"
    }
   ],
   "source": [
    "# score_pos_neg_diff\n",
    "comments[\"score_pos_neg_diff\"] = comments.apply(lambda x: score_up_down_diff(x[\"up\"],\n",
    "                                            x[\"down\"]), axis=1)\n",
    "comments[\"score_pos_neg_diff\"]"
   ]
  },
  {
   "cell_type": "code",
   "execution_count": 13,
   "id": "1df3bf49",
   "metadata": {},
   "outputs": [
    {
     "data": {
      "text/plain": [
       "0    1.00000\n",
       "1    0.97222\n",
       "2    0.87500\n",
       "3    0.66667\n",
       "4    0.11765\n",
       "5    0.71429\n",
       "6    0.57143\n",
       "7    0.88095\n",
       "8    0.47727\n",
       "9    0.86667\n",
       "10   0.70000\n",
       "11   0.98658\n",
       "12   0.98387\n",
       "13   0.96774\n",
       "14   0.82143\n",
       "15   0.97561\n",
       "16   0.94872\n",
       "17   0.91045\n",
       "18   0.96429\n",
       "19   1.00000\n",
       "20   0.85714\n",
       "21   0.97143\n",
       "Name: score_average_rating, dtype: float64"
      ]
     },
     "execution_count": 13,
     "metadata": {},
     "output_type": "execute_result"
    }
   ],
   "source": [
    "# score_average_rating\n",
    "comments[\"score_average_rating\"] = comments.apply(lambda x: score_average_rating(x[\"up\"], x[\"down\"]), axis=1)\n",
    "\n",
    "comments[\"score_average_rating\"] "
   ]
  },
  {
   "cell_type": "code",
   "execution_count": 16,
   "id": "ad228f9f",
   "metadata": {},
   "outputs": [
    {
     "data": {
      "text/plain": [
       "0    0.79612\n",
       "1    0.90426\n",
       "2    0.63977\n",
       "3    0.29999\n",
       "4    0.03288\n",
       "5    0.35893\n",
       "6    0.32591\n",
       "7    0.75000\n",
       "8    0.33755\n",
       "9    0.75835\n",
       "10   0.54570\n",
       "11   0.95238\n",
       "12   0.91413\n",
       "13   0.83806\n",
       "14   0.64409\n",
       "15   0.87405\n",
       "16   0.83114\n",
       "17   0.81807\n",
       "18   0.87881\n",
       "19   0.82412\n",
       "20   0.60059\n",
       "21   0.90168\n",
       "Name: wilson_lower_bound, dtype: float64"
      ]
     },
     "execution_count": 16,
     "metadata": {},
     "output_type": "execute_result"
    }
   ],
   "source": [
    "# wilson_lower_bound\n",
    "comments[\"wilson_lower_bound\"] = comments.apply(lambda x: wilson_lower_bound(x[\"up\"], x[\"down\"]), axis=1)\n",
    "\n",
    "comments[\"wilson_lower_bound\"]"
   ]
  },
  {
   "cell_type": "code",
   "execution_count": 17,
   "id": "bc6e46d0",
   "metadata": {},
   "outputs": [
    {
     "data": {
      "text/html": [
       "<div>\n",
       "<style scoped>\n",
       "    .dataframe tbody tr th:only-of-type {\n",
       "        vertical-align: middle;\n",
       "    }\n",
       "\n",
       "    .dataframe tbody tr th {\n",
       "        vertical-align: top;\n",
       "    }\n",
       "\n",
       "    .dataframe thead th {\n",
       "        text-align: right;\n",
       "    }\n",
       "</style>\n",
       "<table border=\"1\" class=\"dataframe\">\n",
       "  <thead>\n",
       "    <tr style=\"text-align: right;\">\n",
       "      <th></th>\n",
       "      <th>up</th>\n",
       "      <th>down</th>\n",
       "      <th>score_pos_neg_diff</th>\n",
       "      <th>score_average_rating</th>\n",
       "      <th>wilson_lower_bound</th>\n",
       "    </tr>\n",
       "  </thead>\n",
       "  <tbody>\n",
       "    <tr>\n",
       "      <th>11</th>\n",
       "      <td>147</td>\n",
       "      <td>2</td>\n",
       "      <td>145.00000</td>\n",
       "      <td>0.98658</td>\n",
       "      <td>0.95238</td>\n",
       "    </tr>\n",
       "    <tr>\n",
       "      <th>12</th>\n",
       "      <td>61</td>\n",
       "      <td>1</td>\n",
       "      <td>60.00000</td>\n",
       "      <td>0.98387</td>\n",
       "      <td>0.91413</td>\n",
       "    </tr>\n",
       "    <tr>\n",
       "      <th>1</th>\n",
       "      <td>70</td>\n",
       "      <td>2</td>\n",
       "      <td>68.00000</td>\n",
       "      <td>0.97222</td>\n",
       "      <td>0.90426</td>\n",
       "    </tr>\n",
       "    <tr>\n",
       "      <th>21</th>\n",
       "      <td>68</td>\n",
       "      <td>2</td>\n",
       "      <td>66.00000</td>\n",
       "      <td>0.97143</td>\n",
       "      <td>0.90168</td>\n",
       "    </tr>\n",
       "    <tr>\n",
       "      <th>18</th>\n",
       "      <td>54</td>\n",
       "      <td>2</td>\n",
       "      <td>52.00000</td>\n",
       "      <td>0.96429</td>\n",
       "      <td>0.87881</td>\n",
       "    </tr>\n",
       "    <tr>\n",
       "      <th>15</th>\n",
       "      <td>40</td>\n",
       "      <td>1</td>\n",
       "      <td>39.00000</td>\n",
       "      <td>0.97561</td>\n",
       "      <td>0.87405</td>\n",
       "    </tr>\n",
       "    <tr>\n",
       "      <th>13</th>\n",
       "      <td>30</td>\n",
       "      <td>1</td>\n",
       "      <td>29.00000</td>\n",
       "      <td>0.96774</td>\n",
       "      <td>0.83806</td>\n",
       "    </tr>\n",
       "    <tr>\n",
       "      <th>16</th>\n",
       "      <td>37</td>\n",
       "      <td>2</td>\n",
       "      <td>35.00000</td>\n",
       "      <td>0.94872</td>\n",
       "      <td>0.83114</td>\n",
       "    </tr>\n",
       "    <tr>\n",
       "      <th>19</th>\n",
       "      <td>18</td>\n",
       "      <td>0</td>\n",
       "      <td>18.00000</td>\n",
       "      <td>1.00000</td>\n",
       "      <td>0.82412</td>\n",
       "    </tr>\n",
       "    <tr>\n",
       "      <th>17</th>\n",
       "      <td>61</td>\n",
       "      <td>6</td>\n",
       "      <td>55.00000</td>\n",
       "      <td>0.91045</td>\n",
       "      <td>0.81807</td>\n",
       "    </tr>\n",
       "    <tr>\n",
       "      <th>0</th>\n",
       "      <td>15</td>\n",
       "      <td>0</td>\n",
       "      <td>15.00000</td>\n",
       "      <td>1.00000</td>\n",
       "      <td>0.79612</td>\n",
       "    </tr>\n",
       "    <tr>\n",
       "      <th>9</th>\n",
       "      <td>52</td>\n",
       "      <td>8</td>\n",
       "      <td>44.00000</td>\n",
       "      <td>0.86667</td>\n",
       "      <td>0.75835</td>\n",
       "    </tr>\n",
       "    <tr>\n",
       "      <th>7</th>\n",
       "      <td>37</td>\n",
       "      <td>5</td>\n",
       "      <td>32.00000</td>\n",
       "      <td>0.88095</td>\n",
       "      <td>0.75000</td>\n",
       "    </tr>\n",
       "    <tr>\n",
       "      <th>14</th>\n",
       "      <td>23</td>\n",
       "      <td>5</td>\n",
       "      <td>18.00000</td>\n",
       "      <td>0.82143</td>\n",
       "      <td>0.64409</td>\n",
       "    </tr>\n",
       "    <tr>\n",
       "      <th>2</th>\n",
       "      <td>14</td>\n",
       "      <td>2</td>\n",
       "      <td>12.00000</td>\n",
       "      <td>0.87500</td>\n",
       "      <td>0.63977</td>\n",
       "    </tr>\n",
       "    <tr>\n",
       "      <th>20</th>\n",
       "      <td>12</td>\n",
       "      <td>2</td>\n",
       "      <td>10.00000</td>\n",
       "      <td>0.85714</td>\n",
       "      <td>0.60059</td>\n",
       "    </tr>\n",
       "    <tr>\n",
       "      <th>10</th>\n",
       "      <td>28</td>\n",
       "      <td>12</td>\n",
       "      <td>16.00000</td>\n",
       "      <td>0.70000</td>\n",
       "      <td>0.54570</td>\n",
       "    </tr>\n",
       "    <tr>\n",
       "      <th>5</th>\n",
       "      <td>5</td>\n",
       "      <td>2</td>\n",
       "      <td>3.00000</td>\n",
       "      <td>0.71429</td>\n",
       "      <td>0.35893</td>\n",
       "    </tr>\n",
       "    <tr>\n",
       "      <th>8</th>\n",
       "      <td>21</td>\n",
       "      <td>23</td>\n",
       "      <td>-2.00000</td>\n",
       "      <td>0.47727</td>\n",
       "      <td>0.33755</td>\n",
       "    </tr>\n",
       "    <tr>\n",
       "      <th>6</th>\n",
       "      <td>8</td>\n",
       "      <td>6</td>\n",
       "      <td>2.00000</td>\n",
       "      <td>0.57143</td>\n",
       "      <td>0.32591</td>\n",
       "    </tr>\n",
       "    <tr>\n",
       "      <th>3</th>\n",
       "      <td>4</td>\n",
       "      <td>2</td>\n",
       "      <td>2.00000</td>\n",
       "      <td>0.66667</td>\n",
       "      <td>0.29999</td>\n",
       "    </tr>\n",
       "    <tr>\n",
       "      <th>4</th>\n",
       "      <td>2</td>\n",
       "      <td>15</td>\n",
       "      <td>-13.00000</td>\n",
       "      <td>0.11765</td>\n",
       "      <td>0.03288</td>\n",
       "    </tr>\n",
       "  </tbody>\n",
       "</table>\n",
       "</div>"
      ],
      "text/plain": [
       "     up  down  score_pos_neg_diff  score_average_rating  wilson_lower_bound\n",
       "11  147     2           145.00000               0.98658             0.95238\n",
       "12   61     1            60.00000               0.98387             0.91413\n",
       "1    70     2            68.00000               0.97222             0.90426\n",
       "21   68     2            66.00000               0.97143             0.90168\n",
       "18   54     2            52.00000               0.96429             0.87881\n",
       "15   40     1            39.00000               0.97561             0.87405\n",
       "13   30     1            29.00000               0.96774             0.83806\n",
       "16   37     2            35.00000               0.94872             0.83114\n",
       "19   18     0            18.00000               1.00000             0.82412\n",
       "17   61     6            55.00000               0.91045             0.81807\n",
       "0    15     0            15.00000               1.00000             0.79612\n",
       "9    52     8            44.00000               0.86667             0.75835\n",
       "7    37     5            32.00000               0.88095             0.75000\n",
       "14   23     5            18.00000               0.82143             0.64409\n",
       "2    14     2            12.00000               0.87500             0.63977\n",
       "20   12     2            10.00000               0.85714             0.60059\n",
       "10   28    12            16.00000               0.70000             0.54570\n",
       "5     5     2             3.00000               0.71429             0.35893\n",
       "8    21    23            -2.00000               0.47727             0.33755\n",
       "6     8     6             2.00000               0.57143             0.32591\n",
       "3     4     2             2.00000               0.66667             0.29999\n",
       "4     2    15           -13.00000               0.11765             0.03288"
      ]
     },
     "execution_count": 17,
     "metadata": {},
     "output_type": "execute_result"
    }
   ],
   "source": [
    "comments.sort_values(\"wilson_lower_bound\", ascending=False)"
   ]
  },
  {
   "cell_type": "code",
   "execution_count": null,
   "id": "6e822208",
   "metadata": {},
   "outputs": [],
   "source": []
  },
  {
   "cell_type": "code",
   "execution_count": null,
   "id": "ae6a8ef9",
   "metadata": {},
   "outputs": [],
   "source": []
  },
  {
   "cell_type": "code",
   "execution_count": null,
   "id": "55198d69",
   "metadata": {},
   "outputs": [],
   "source": []
  },
  {
   "cell_type": "code",
   "execution_count": null,
   "id": "f20b1fb0",
   "metadata": {},
   "outputs": [],
   "source": []
  }
 ],
 "metadata": {
  "kernelspec": {
   "display_name": "Python 3 (ipykernel)",
   "language": "python",
   "name": "python3"
  },
  "language_info": {
   "codemirror_mode": {
    "name": "ipython",
    "version": 3
   },
   "file_extension": ".py",
   "mimetype": "text/x-python",
   "name": "python",
   "nbconvert_exporter": "python",
   "pygments_lexer": "ipython3",
   "version": "3.11.7"
  }
 },
 "nbformat": 4,
 "nbformat_minor": 5
}
